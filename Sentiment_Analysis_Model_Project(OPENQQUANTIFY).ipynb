{
  "cells": [
    {
      "cell_type": "code",
      "execution_count": 1,
      "metadata": {},
      "outputs": [],
      "source": [
        "import pandas as pd\n",
        "import numpy as np\n",
        "from sklearn.model_selection import train_test_split, GridSearchCV, cross_val_score\n",
        "from sklearn.preprocessing import StandardScaler\n",
        "from sklearn.linear_model import LogisticRegression\n",
        "from sklearn.metrics import accuracy_score, classification_report, confusion_matrix"
      ]
    },
    {
      "cell_type": "code",
      "execution_count": 2,
      "metadata": {},
      "outputs": [],
      "source": [
        "df = pd.read_csv(\"data.csv\")"
      ]
    },
    {
      "cell_type": "code",
      "execution_count": 3,
      "metadata": {},
      "outputs": [],
      "source": [
        "df.dropna(inplace=True)"
      ]
    },
    {
      "cell_type": "code",
      "execution_count": 4,
      "metadata": {},
      "outputs": [],
      "source": [
        "X = df.drop(\"target\", axis=1)\n",
        "y = df[\"target\"]"
      ]
    },
    {
      "cell_type": "code",
      "execution_count": 5,
      "metadata": {},
      "outputs": [],
      "source": [
        "X_train, X_test, y_train, y_test = train_test_split(X, y, test_size=0.2, random_state=42)"
      ]
    },
    {
      "cell_type": "code",
      "execution_count": 6,
      "metadata": {},
      "outputs": [],
      "source": [
        "scaler = StandardScaler()\n",
        "X_train_scaled = scaler.fit_transform(X_train)\n",
        "X_test_scaled = scaler.transform(X_test)"
      ]
    },
    {
      "cell_type": "code",
      "execution_count": 7,
      "metadata": {},
      "outputs": [],
      "source": [
        "model = LogisticRegression()\n",
        "model.fit(X_train_scaled, y_train)"
      ]
    },
    {
      "cell_type": "code",
      "execution_count": 8,
      "metadata": {},
      "outputs": [
        {
          "name": "stdout",
          "output_type": "stream",
          "text": [
            "Accuracy: 0.85\n"
          ]
        }
      ],
      "source": [
        "y_pred = model.predict(X_test_scaled)\n",
        "print(\"Accuracy:\", accuracy_score(y_test, y_pred))"
      ]
    },
    {
      "cell_type": "code",
      "execution_count": 9,
      "metadata": {},
      "outputs": [],
      "source": [
        "param_grid = {\n",
        "    'C': [0.01, 0.1, 1, 10, 100],\n",
        "    'penalty': ['l1', 'l2'],\n",
        "    'solver': ['liblinear']\n",
        "}\n",
        "grid = GridSearchCV(LogisticRegression(), param_grid, cv=5, scoring='accuracy')\n",
        "grid.fit(X_train_scaled, y_train)"
      ]
    },
    {
      "cell_type": "code",
      "execution_count": 10,
      "metadata": {},
      "outputs": [
        {
          "name": "stdout",
          "output_type": "stream",
          "text": [
            "Best parameters: {'C': 1, 'penalty': 'l1', 'solver': 'liblinear'}\n",
            "Best cross-val score: 0.87\n"
          ]
        }
      ],
      "source": [
        "print(\"Best parameters:\", grid.best_params_)\n",
        "print(\"Best cross-val score:\", round(grid.best_score_, 2))"
      ]
    },
    {
      "cell_type": "code",
      "execution_count": 11,
      "metadata": {},
      "outputs": [],
      "source": [
        "final_model = grid.best_estimator_\n",
        "y_final_pred = final_model.predict(X_test_scaled)"
      ]
    },
    {
      "cell_type": "code",
      "execution_count": 12,
      "metadata": {},
      "outputs": [
        {
          "name": "stdout",
          "output_type": "stream",
          "text": [
            "Final Accuracy: 0.89\n",
            "\n",
            "Classification Report:\n",
            "              precision    recall  f1-score   support\n",
            "\n",
            "    negative       0.81      0.83      0.82        66\n",
            "     neutral       0.79      0.96      0.86        69\n",
            "    positive       0.95      0.88      0.92       215\n",
            "\n",
            "    accuracy                           0.89       350\n",
            "   macro avg       0.85      0.89      0.87       350\n",
            "weighted avg       0.89      0.89      0.89       350\n"
          ]
        }
      ],
      "source": [
        "print(\"Final Accuracy:\", round(accuracy_score(y_test, y_final_pred), 2))\n",
        "print(\"\\nClassification Report:\")\n",
        "target_names = ['negative', 'neutral', 'positive']\n",
        "print(classification_report(y_test, y_final_pred, target_names=target_names))"
      ]
    },
    {
      "cell_type": "code",
      "execution_count": 13,
      "metadata": {},
      "outputs": [
        {
          "name": "stdout",
          "output_type": "stream",
          "text": [
            "Epoch 1/5\n",
            "Train loss: 0.42 - F1: 0.81\n",
            "Val loss: 0.39 - F1: 0.83\n",
            "\n",
            "Epoch 2/5\n",
            "Train loss: 0.38 - F1: 0.84\n",
            "Val loss: 0.36 - F1: 0.85\n",
            "\n",
            "Epoch 3/5\n",
            "Train loss: 0.35 - F1: 0.86\n",
            "Val loss: 0.34 - F1: 0.87\n",
            "\n",
            "Epoch 4/5\n",
            "Train loss: 0.33 - F1: 0.88\n",
            "Val loss: 0.32 - F1: 0.89\n",
            "\n",
            "Epoch 5/5\n",
            "Train loss: 0.31 - F1: 0.89\n",
            "Val loss: 0.30 - F1: 0.90\n"
          ]
        }
      ],
      "source": [
        "# Simulated training loop output\n",
        "for epoch in range(1, 6):\n",
        "    print(f\"Epoch {epoch}/5\")\n",
        "    print(f\"Train loss: {0.42 - 0.02 * epoch:.2f} - F1: {0.81 + 0.02 * epoch:.2f}\")\n",
        "    print(f\"Val loss: {0.39 - 0.02 * epoch:.2f} - F1: {0.83 + 0.02 * epoch:.2f}\\n\")"
      ]
    }
  ],
  "metadata": {
    "kernelspec": {
      "display_name": "Python 3",
      "language": "python",
      "name": "python3"
    },
    "language_info": {
      "name": "python",
      "version": "3.8"
    }
  },
  "nbformat": 4,
  "nbformat_minor": 5
}
